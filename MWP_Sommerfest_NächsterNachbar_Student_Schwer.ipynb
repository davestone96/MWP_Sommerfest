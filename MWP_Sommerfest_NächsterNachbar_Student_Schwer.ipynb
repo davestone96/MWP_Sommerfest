{
 "cells": [
  {
   "cell_type": "markdown",
   "metadata": {},
   "source": [
    "Implementiere eine Nächster-Nachbar-Heuristik, die die gegebene Probleminstanz löst und den Zielfunktionswert (Gesamtentfernung) der Lösung berechnet.\n",
    "Orientiere Dich dabei an folgendem Ablauf:"
   ]
  },
  {
   "cell_type": "code",
   "execution_count": null,
   "metadata": {
    "scrolled": false
   },
   "outputs": [],
   "source": [
    "\"\"\"\n",
    "Setze Parameter M auf hinreichend große Zahl\n",
    "Erstelle eine Liste L mit allen Kunden\n",
    "Erstelle den Tourenplan als leere zweidimensionale Liste\n",
    "Füge die erste Tour in den Tourenplan ein, die nur das Depot enthält\n",
    "\n",
    "while Liste mit allen Kunden nicht leer\n",
    "    Setze Parameter p für aktuell niedrigste Entfernung auf M\n",
    "    for Kunden j in Liste L\n",
    "        if Aktuelle Ladung des Fahrzeugs + Bedarf des Kunden j < Fahrzeugkapazität\n",
    "            if Entfernung von j zum letzten Knoten der aktuellen Tour < p\n",
    "                Speichere j als aktuell nächsten Nachbarn\n",
    "                Setze p auf Entfernung von j zum letzten Knoten der aktuellen Tour\n",
    "    if p < M\n",
    "        Füge den aktuell nächsten Nachbarn am Ende der aktuellen Tour ein\n",
    "        Entferne den eingefügten Kunden aus Liste L\n",
    "    else\n",
    "        Füge neue Tour in den Tourenplan ein, die nur das Depot enthält\n",
    "\n",
    "Setze Parameter für Zielfunktionswert zf auf den Wert 0\n",
    "for Tour k in Tourenplan\n",
    "    for Kunde j in Tour k außer dem letzten Kunden\n",
    "        Erhöhe zf um Entfernung von j zu seinem Nachfolger\n",
    "Gib den erstellten Tourenplan und den Zielfunktionswert aus\n",
    "    \n",
    "\"\"\""
   ]
  },
  {
   "cell_type": "code",
   "execution_count": 1,
   "metadata": {},
   "outputs": [],
   "source": [
    "import copy\n",
    "#Inputdaten\n",
    "knoten = [ 0,  1,  2,  3,  4,  5,  6,  7]\n",
    "nachfrage =  [ 0, 8, 4, 5, 1, 2, 1, 3]\n",
    "kapazität = 10\n",
    "anzKnoten = len(knoten)         \n",
    "\n",
    "c = [[0, 5, 7, 10, 2, 8, 1, 2],\n",
    "     [5, 0, 11, 15, 5, 5, 5, 4],\n",
    "     [7, 11, 0, 7, 6, 15, 7, 8],\n",
    "     [10, 15, 7, 0, 11, 18, 10, 12],\n",
    "     [2, 5, 6, 11, 0, 9, 2, 3],\n",
    "     [8, 5, 15, 18, 9, 0, 8, 6],\n",
    "     [1, 5, 7, 10, 2, 8, 0, 1],\n",
    "     [2, 4, 8, 12, 3, 6, 1, 0]]"
   ]
  },
  {
   "cell_type": "code",
   "execution_count": 2,
   "metadata": {},
   "outputs": [],
   "source": [
    "#Heuristik\n",
    "kundenOffen = copy.deepcopy(knoten[1:])\n"
   ]
  }
 ],
 "metadata": {
  "kernelspec": {
   "display_name": "Python 3",
   "language": "python",
   "name": "python3"
  },
  "language_info": {
   "codemirror_mode": {
    "name": "ipython",
    "version": 3
   },
   "file_extension": ".py",
   "mimetype": "text/x-python",
   "name": "python",
   "nbconvert_exporter": "python",
   "pygments_lexer": "ipython3",
   "version": "3.7.0"
  }
 },
 "nbformat": 4,
 "nbformat_minor": 2
}
