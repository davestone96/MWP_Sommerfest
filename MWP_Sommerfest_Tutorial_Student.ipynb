{
 "cells": [
  {
   "cell_type": "markdown",
   "metadata": {},
   "source": [
    "Wir beginnen mit einigen allgemeinen Grundsätzen der Syntax:\n",
    "Zuweisungen erfolgen über ein Gleichheitszeichen."
   ]
  },
  {
   "cell_type": "code",
   "execution_count": null,
   "metadata": {},
   "outputs": [],
   "source": [
    "parameter = 1"
   ]
  },
  {
   "cell_type": "markdown",
   "metadata": {},
   "source": [
    "Die Datenausgabe ist mittels der Funktion *print()* möglich."
   ]
  },
  {
   "cell_type": "code",
   "execution_count": null,
   "metadata": {},
   "outputs": [],
   "source": [
    "print(parameter)"
   ]
  },
  {
   "cell_type": "markdown",
   "metadata": {},
   "source": [
    "Groß- und Kleinschreibung ist relevant."
   ]
  },
  {
   "cell_type": "code",
   "execution_count": null,
   "metadata": {},
   "outputs": [],
   "source": [
    "Parameter = 2\n",
    "print(parameter + Parameter)"
   ]
  },
  {
   "cell_type": "markdown",
   "metadata": {},
   "source": [
    "Kommentare und Strings werden wie folgt gekennzeichnet:"
   ]
  },
  {
   "cell_type": "code",
   "execution_count": null,
   "metadata": {},
   "outputs": [],
   "source": [
    "#Dies ist ein einzeiliger Kommentar\n",
    "print(\"Strings stehen in Anführungszeichen.\")"
   ]
  },
  {
   "cell_type": "markdown",
   "metadata": {},
   "source": [
    "Codeabschnitte, die mehrfach aufgerufen werden sollen, können in Funktionen ausgelagert werden.\n",
    "Der Funktionsheader besteht lediglich aus dem Keyword *def*, dem Funktionsnamen und den Argumenten in eckigen Klammern.\n",
    "Die Operationen innerhalb der Funktion kennzeichnet man durch Einrückungen. Der Funktionsaufruf erfolgt durch die Angabe des Funktionsbezeichners und der Argumente in Klammern."
   ]
  },
  {
   "cell_type": "code",
   "execution_count": null,
   "metadata": {},
   "outputs": [],
   "source": [
    "def funktion(p,P): #Funktionsheader\n",
    "        p = P      #Argumente als lokale Variablen\n",
    "        print(\"Ergebnis der Berechnungen der Funktion:\",p)\n",
    "print(\"Hier ist die Funktion zu Ende.\")\n",
    "funktion(parameter,Parameter)"
   ]
  },
  {
   "cell_type": "markdown",
   "metadata": {},
   "source": [
    "**Aufgabe 1**: Erstelle eine Funktion, die den Durchschnitt (arithmetisches Mittel) von drei Parametern berechnet und ausgibt und teste sie, indem Du sie mit den Werten 10, 15  und 18 aufrufst."
   ]
  },
  {
   "cell_type": "code",
   "execution_count": null,
   "metadata": {},
   "outputs": [],
   "source": [
    "#Lösung"
   ]
  },
  {
   "cell_type": "markdown",
   "metadata": {},
   "source": [
    "Zur Speicherung mehrerer Parameter werden Listen eingesetzt. Jede Speicherposition wird mit einer Zahl, dem sogenannten Index bezeichnet. Die erste Position erhält den Index 0. Der Zugriff auf ein Element der Liste erfolgt durch Angabe des Index in eckigen Klammern."
   ]
  },
  {
   "cell_type": "code",
   "execution_count": null,
   "metadata": {},
   "outputs": [],
   "source": [
    "liste1 = [1,2,3]\n",
    "print(liste1) #Zugriff auf gesamte Liste\n",
    "print(liste1[0]) #Zugriff auf erstes Element\n",
    "print(liste1[-1]) #Zugriff auf letztes Element\n",
    "print(liste1[1:]) #Zugriff auf alle Elemente ab dem zweiten Element (Index 1)\n",
    "print(liste1[:-1])#Zugriff auf alle Elemente bis zum vorletzten Element (Index 1)"
   ]
  },
  {
   "cell_type": "markdown",
   "metadata": {},
   "source": [
    "Eine Kopie einer Liste kann mithilfe der vordefinierten Funktion *copy.deepcopy()* erstellt werden."
   ]
  },
  {
   "cell_type": "code",
   "execution_count": null,
   "metadata": {},
   "outputs": [],
   "source": [
    "import copy\n",
    "kopieliste1 = copy.deepcopy(liste1)\n",
    "print(\"Kopie der Liste 1:\",kopieliste1)"
   ]
  },
  {
   "cell_type": "markdown",
   "metadata": {},
   "source": [
    "Um herauszufinden an welcher Position ein bestimmter Wert in der Liste gespeichert ist, kann die vordefinierte Funktion *.index()* verwendet werden. Das gesuchte Element wird als Argument eingegeben und die Liste, in der gesucht werden soll, vorangestellt."
   ]
  },
  {
   "cell_type": "code",
   "execution_count": null,
   "metadata": {},
   "outputs": [],
   "source": [
    "print(\"Position des Werts 2 in Liste1:\",liste1.index(2))"
   ]
  },
  {
   "cell_type": "markdown",
   "metadata": {},
   "source": [
    "Eine Liste kann durch Einfügen, Entfernen oder Anhängen von Elementen verändert werden. Für diese Operationen können die vordefinierten Funktionen *.insert()*,*.remove()* und *.append()* verwendet werden, denen die zu bearbeitende Liste vorangestellt wird. "
   ]
  },
  {
   "cell_type": "code",
   "execution_count": null,
   "metadata": {},
   "outputs": [],
   "source": [
    "kopieliste1.insert(-1,4)#Der insert() Funktion wird zuerst die Einfügestelle\n",
    "                      #und dann das einzufügende Element übergeben\n",
    "print(\"Einfügen von Wert 4 an der letzten Stelle ergibt:\",kopieliste1)\n",
    "kopieliste1.remove(4)\n",
    "print(\"Entfernen von Wert 4 ergibt:\",kopieliste1)\n",
    "kopieliste1.append(4)\n",
    "print(\"Anhängen von Wert 4 ergibt:\",kopieliste1)"
   ]
  },
  {
   "cell_type": "markdown",
   "metadata": {},
   "source": [
    "Tabellen werden in Form von zweidimensionalen Listen gespeichert. Auf Elemente einer Tabelle wird ebenfalls mit eckigen Klammern zugegriffen, wobei in der ersten Klammer die Zeile und in der zweiten Klammer die Spalte des Elements angegeben wird. Die Funktionen *.insert()*,*.remove()* und *.append()* können für zweidimensionale Listen ebenfalls verwendet werden."
   ]
  },
  {
   "cell_type": "code",
   "execution_count": null,
   "metadata": {},
   "outputs": [],
   "source": [
    "tabelle1 = [[1,2,3],\n",
    "           [4,5,6],\n",
    "           [7,8,9]]\n",
    "print(\"Element in Zeile 1 und Spalte 1:\",tabelle1[0][0])\n",
    "print(\"Element in Zeile 2 und Spalte 3:\",tabelle1[1][2])\n",
    "tabelle1.append([10,11,12])\n",
    "tabelle1.remove([1,2,3])\n",
    "print(\"Tabelle nach Entfernen/Einfügen von Zeilen:\",tabelle1)"
   ]
  },
  {
   "cell_type": "markdown",
   "metadata": {},
   "source": [
    "**Aufgabe 2**: Transformiere die Liste [1,2,3,4,5] durch Anwenden der drei beschriebenen Funktionen in die Liste [3,5,2,4,1] und bestimme den Index (Speicherposition) des Werts 5."
   ]
  },
  {
   "cell_type": "code",
   "execution_count": null,
   "metadata": {},
   "outputs": [],
   "source": [
    "#Lösung"
   ]
  },
  {
   "cell_type": "markdown",
   "metadata": {},
   "source": [
    "**Aufgabe 3**: Erstelle eine leere Liste und befülle sie so, dass die zweidimensionale Liste [[1,2],[3,4]] entsteht und weise dem zweiten Element der ersten enthaltenen Liste den Wert 10 zu. Greife außerdem auf das Element mit dem Wert 4 zu."
   ]
  },
  {
   "cell_type": "code",
   "execution_count": null,
   "metadata": {},
   "outputs": [],
   "source": [
    "#Lösung"
   ]
  },
  {
   "cell_type": "markdown",
   "metadata": {},
   "source": [
    "Der Ablauf eines Algorithmus wird mithilfe von Schleifen kontrolliert. Die while-Schleife ist gut geeignet, um Anweisungen wiederholt durchzuführen, solange ein definiertes Kriterium erfüllt ist. Dieses Kriterium wird zu Beginn jedes Schleifendurchlaufs geprüft. Der Beginn der Schleife wird durch : und eine Einrückung gekennzeichnet."
   ]
  },
  {
   "cell_type": "code",
   "execution_count": null,
   "metadata": {},
   "outputs": [],
   "source": [
    "liste1 = [1,2,3]\n",
    "zähler = 0\n",
    "while liste1 != []:\n",
    "    erstesElement = liste1[0]\n",
    "    liste1.remove(erstesElement)\n",
    "    zähler = zähler + 1\n",
    "    print(\"Liste nach Iteration\",zähler,\":\",liste1)\n",
    "print(\"Abbruch, da Liste leer.\")"
   ]
  },
  {
   "cell_type": "markdown",
   "metadata": {},
   "source": [
    "Um die Elemente einer Liste durchzugehen, werden meist for-Schleifen verwendet. Die Syntax ist identisch zu der der while-Schleife, mit dem Unterschied, dass die Liste, über die iteriert werden soll, angegeben werden muss."
   ]
  },
  {
   "cell_type": "code",
   "execution_count": null,
   "metadata": {},
   "outputs": [],
   "source": [
    "liste1 = [1,2,3]\n",
    "zähler = 0\n",
    "for element in liste1:\n",
    "    print(\"Element an der Stelle\",zähler,\":\",element)\n",
    "    zähler = zähler + 1"
   ]
  },
  {
   "cell_type": "markdown",
   "metadata": {},
   "source": [
    "Der for-Schleife sehr ähnlich ist die vordefinierte Funktion *sum()*, mit der die Summe über mehrere Parameterwerte gebildet werden kann. Der Funktion wird zunächst der Parametertyp in Form einer Liste und anschließend eine Liste der Indexwerte übergeben, über die summiert werden soll. Die Summe über alle Elemente einer Liste kann gebildet werden, indem die Liste ohne for-Schleife als Argument der Funktion *sum()* eingegeben wird."
   ]
  },
  {
   "cell_type": "code",
   "execution_count": null,
   "metadata": {},
   "outputs": [],
   "source": [
    "liste1 = [1,2,3]\n",
    "indexwerte = [0,2]\n",
    "TeilSummeListe1 = sum(liste1[i] for i in indexwerte)\n",
    "print(\"Summe des ersten und dritten Elements von Liste1:\",TeilSummeListe1)\n",
    "summeListe1 = sum(liste1)\n",
    "print(\"Summe aller Elemente von Liste1:\",summeListe1)"
   ]
  },
  {
   "cell_type": "markdown",
   "metadata": {},
   "source": [
    "Zur Kontrolle des Programmablaufs können neben den Schleifen auch bedingte Anweisungen eingesetzt werden. Zu Beginn einer bedingten Anweisung wird eine Bedingung geprüft, die nach dem Befehl *if* angegeben wird. Ist diese erfüllt, wird der nachfolgende eingerückte Codeabschnitt ausgeführt. Optional kann nach dem Befehl *else:* ein Codeabschnitt angegeben werden, der ausgeführt werden soll, falls die Bedingung nicht erfüllt ist.\n",
    "Wenn mehrere Bedingungen geprüft werden sollen, können diese durch *and* bzw. *or* logisch verknüpft werden. "
   ]
  },
  {
   "cell_type": "code",
   "execution_count": null,
   "metadata": {},
   "outputs": [],
   "source": [
    "a = 3\n",
    "b = 4\n",
    "if a == 3:\n",
    "    print(\"Es gilt: a = 3\")\n",
    "\n",
    "if a < 2:\n",
    "    print(\"Es gilt: a < 2\")\n",
    "else:\n",
    "    print(\"Es gilt: a >= 2\")    \n",
    "    \n",
    "if a == 3 and b == 3:\n",
    "    print(\"Es gilt: a = b = 3\")\n",
    "\n",
    "if a == 3 or b == 3:\n",
    "    print(\"Es gilt: Entweder a = 3 oder b = 3 oder beides\")\n",
    "    "
   ]
  },
  {
   "cell_type": "markdown",
   "metadata": {},
   "source": [
    "**Aufgabe 4**: Füge der Liste [1,2,4] iterativ ein Element hinzu, das den doppelten Wert des bisher letzten Elements enthält, und gib die aktualisierte Liste in jeder Iteration aus. Das Programm soll enden, sobald die Summe der drei letzten Elemente der Liste den Wert 100 übersteigt."
   ]
  },
  {
   "cell_type": "code",
   "execution_count": null,
   "metadata": {},
   "outputs": [],
   "source": [
    "#Lösung"
   ]
  },
  {
   "cell_type": "markdown",
   "metadata": {},
   "source": [
    "**Aufgabe 5**: Zerlege die zweidimensionale Liste [[2,6],[5,3],[8,9],[1,4]] in zwei separate Listen, von denen die erste nur jene Elemente enthält, die kleiner als 5 sind. Die übrigen Elemente der ursprünglichen Liste sollen in der zweiten Liste gespeichert werden. "
   ]
  },
  {
   "cell_type": "code",
   "execution_count": null,
   "metadata": {},
   "outputs": [],
   "source": [
    "#Lösung"
   ]
  }
 ],
 "metadata": {
  "kernelspec": {
   "display_name": "Python 3",
   "language": "python",
   "name": "python3"
  },
  "language_info": {
   "codemirror_mode": {
    "name": "ipython",
    "version": 3
   },
   "file_extension": ".py",
   "mimetype": "text/x-python",
   "name": "python",
   "nbconvert_exporter": "python",
   "pygments_lexer": "ipython3",
   "version": "3.7.0"
  }
 },
 "nbformat": 4,
 "nbformat_minor": 2
}
